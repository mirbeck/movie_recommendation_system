{
 "cells": [
  {
   "cell_type": "code",
   "execution_count": 7,
   "metadata": {},
   "outputs": [],
   "source": [
    "#Import libraries\n",
    "import pandas as pd\n",
    "import numpy as np\n",
    "from sklearn.feature_extraction.text import CountVectorizer\n",
    "from sklearn.metrics.pairwise import cosine_similarity\n",
    "import os\n",
    "os.chdir(\"/Users/mirbek/Desktop/Data Science/movie recommendation system\")"
   ]
  },
  {
   "cell_type": "code",
   "execution_count": 9,
   "metadata": {},
   "outputs": [],
   "source": [
    "#Import IMDB dataset\n",
    "df = pd.read_csv('movie_dataset.csv')"
   ]
  },
  {
   "cell_type": "code",
   "execution_count": 11,
   "metadata": {},
   "outputs": [
    {
     "data": {
      "text/plain": [
       "(4803, 24)"
      ]
     },
     "execution_count": 11,
     "metadata": {},
     "output_type": "execute_result"
    }
   ],
   "source": [
    "#Check shape of dataset\n",
    "df.shape"
   ]
  },
  {
   "cell_type": "code",
   "execution_count": 12,
   "metadata": {},
   "outputs": [
    {
     "data": {
      "text/plain": [
       "Index(['index', 'budget', 'genres', 'homepage', 'id', 'keywords',\n",
       "       'original_language', 'original_title', 'overview', 'popularity',\n",
       "       'production_companies', 'production_countries', 'release_date',\n",
       "       'revenue', 'runtime', 'spoken_languages', 'status', 'tagline', 'title',\n",
       "       'vote_average', 'vote_count', 'cast', 'crew', 'director'],\n",
       "      dtype='object')"
      ]
     },
     "execution_count": 12,
     "metadata": {},
     "output_type": "execute_result"
    }
   ],
   "source": [
    "#Check df columns\n",
    "df.columns"
   ]
  },
  {
   "cell_type": "code",
   "execution_count": 13,
   "metadata": {},
   "outputs": [],
   "source": [
    "#We will choose these features to find similaritites\n",
    "features = ['keywords', 'cast', 'genres','director']"
   ]
  },
  {
   "cell_type": "code",
   "execution_count": 14,
   "metadata": {},
   "outputs": [],
   "source": [
    "#Since we have some NA's in our features we will them with \" \"\n",
    "for feature in features:\n",
    "    df[feature] = df[feature].fillna('')"
   ]
  },
  {
   "cell_type": "code",
   "execution_count": 15,
   "metadata": {},
   "outputs": [],
   "source": [
    "#Function to combine all rows into one feature\n",
    "def combine_features(row):\n",
    "    try:\n",
    "        return row['keywords'] +\"\"+ row['cast'] +\"\"+ row ['genres']+\"\"+row['director']\n",
    "    except:\n",
    "        print (\"Error:\", row)"
   ]
  },
  {
   "cell_type": "code",
   "execution_count": 16,
   "metadata": {},
   "outputs": [
    {
     "name": "stdout",
     "output_type": "stream",
     "text": [
      "0    culture clash future space war space colony so...\n",
      "1    ocean drug abuse exotic island east india trad...\n",
      "2    spy based on novel secret agent sequel mi6Dani...\n",
      "3    dc comics crime fighter terrorist secret ident...\n",
      "4    based on novel mars medallion space travel pri...\n",
      "Name: combined_features, dtype: object\n"
     ]
    }
   ],
   "source": [
    "#Apply function and create a new column\n",
    "df[\"combined_features\"] = df.apply(combine_features, axis=1)\n",
    "print (df.combined_features.head())"
   ]
  },
  {
   "cell_type": "code",
   "execution_count": 17,
   "metadata": {},
   "outputs": [],
   "source": [
    "#Fit Count Vectorizer\n",
    "cv = CountVectorizer()\n",
    "count_matrix = cv.fit_transform(df['combined_features'])"
   ]
  },
  {
   "cell_type": "code",
   "execution_count": 18,
   "metadata": {},
   "outputs": [],
   "source": [
    "#Check cosine similraty\n",
    "cosine_sim=cosine_similarity(count_matrix)"
   ]
  },
  {
   "cell_type": "code",
   "execution_count": 19,
   "metadata": {},
   "outputs": [],
   "source": [
    "#Function to get title from index and index from title\n",
    "def get_title_from_index(index):\n",
    "    return df[df.index == index]['title'].values[0]\n",
    "\n",
    "def get_index_from_title(title):\n",
    "    return df[df.title == title]['index'].values[0]"
   ]
  },
  {
   "cell_type": "code",
   "execution_count": 20,
   "metadata": {},
   "outputs": [],
   "source": [
    "#Movie which likes to my daughter\n",
    "movie_user_likes = \"Tangled\""
   ]
  },
  {
   "cell_type": "code",
   "execution_count": 21,
   "metadata": {},
   "outputs": [],
   "source": [
    "#We will store index of user likes using our function\n",
    "movie_index = get_index_from_title(movie_user_likes)"
   ]
  },
  {
   "cell_type": "code",
   "execution_count": 22,
   "metadata": {},
   "outputs": [],
   "source": [
    "#We want sort similar movies in descending way\n",
    "similar_movies = list(enumerate(cosine_sim[movie_index]))\n",
    "sorted_similar_movies = sorted(similar_movies, key= lambda x:x[1], reverse=True)"
   ]
  },
  {
   "cell_type": "code",
   "execution_count": 23,
   "metadata": {},
   "outputs": [
    {
     "name": "stdout",
     "output_type": "stream",
     "text": [
      "Tangled\n",
      "Snow White and the Huntsman\n",
      "Pan\n",
      "Racing Stripes\n",
      "The Huntsman: Winter's War\n",
      "Cinderella\n",
      "Mirror Mirror\n",
      "Maleficent\n",
      "Little Black Book\n",
      "Stonewall\n",
      "Street Fighter\n",
      "Red Eye\n",
      "Slacker Uprising\n",
      "Pinocchio\n",
      "Roger & Me\n",
      "Jack the Giant Slayer\n",
      "Hidalgo\n",
      "Into the Woods\n",
      "Red Riding Hood\n",
      "License to Wed\n",
      "A Simple Wish\n",
      "American Dreamz\n",
      "In the Heart of the Sea\n",
      "Enchanted\n",
      "Alien: Resurrection\n",
      "Inkheart\n",
      "Blade II\n",
      "The Time Traveler's Wife\n",
      "Ella Enchanted\n",
      "Snow White: A Tale of Terror\n",
      "Sicko\n",
      "1776\n",
      "Seventh Son\n",
      "Shrek\n",
      "The Negotiator\n",
      "Capitalism: A Love Story\n",
      "The Cottage\n",
      "Puss in Boots\n",
      "Shrek 2\n",
      "Because I Said So\n",
      "Dr. Dolittle 2\n",
      "Hellboy\n",
      "Dreamer: Inspired By a True Story\n",
      "Skin Trade\n",
      "Fahrenheit 9/11\n",
      "Saved!\n",
      "Higher Ground\n",
      "Naturally Native\n",
      "Bowling for Columbine\n",
      "The Devil's Tomb\n",
      "American Graffiti\n"
     ]
    }
   ],
   "source": [
    "#Print first 50 similar movies to \"movie_user_likes\" in our case Tangeled\n",
    "i=0\n",
    "for movie in sorted_similar_movies:\n",
    "    print(get_title_from_index(movie[0]))\n",
    "    i = i+1\n",
    "    if i > 50:\n",
    "        break"
   ]
  }
 ],
 "metadata": {
  "kernelspec": {
   "display_name": "Python 3",
   "language": "python",
   "name": "python3"
  },
  "language_info": {
   "codemirror_mode": {
    "name": "ipython",
    "version": 3
   },
   "file_extension": ".py",
   "mimetype": "text/x-python",
   "name": "python",
   "nbconvert_exporter": "python",
   "pygments_lexer": "ipython3",
   "version": "3.7.2"
  }
 },
 "nbformat": 4,
 "nbformat_minor": 2
}
